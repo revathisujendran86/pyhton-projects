{
 "cells": [
  {
   "cell_type": "code",
   "execution_count": 1,
   "id": "95c22dfa",
   "metadata": {},
   "outputs": [],
   "source": [
    "import csv"
   ]
  },
  {
   "cell_type": "code",
   "execution_count": 2,
   "id": "c93ff822",
   "metadata": {},
   "outputs": [],
   "source": [
    "import numpy as np\n",
    "import os\n",
    "os.chdir(\"C:\\Revathi\\Top Grads\\python\\dataset\")"
   ]
  },
  {
   "cell_type": "code",
   "execution_count": 3,
   "id": "5ed440d5",
   "metadata": {},
   "outputs": [],
   "source": [
    "import pandas as pd\n",
    "data= pd.read_csv('User_Data.csv')"
   ]
  },
  {
   "cell_type": "code",
   "execution_count": 4,
   "id": "4b550f0f",
   "metadata": {},
   "outputs": [
    {
     "data": {
      "text/html": [
       "<div>\n",
       "<style scoped>\n",
       "    .dataframe tbody tr th:only-of-type {\n",
       "        vertical-align: middle;\n",
       "    }\n",
       "\n",
       "    .dataframe tbody tr th {\n",
       "        vertical-align: top;\n",
       "    }\n",
       "\n",
       "    .dataframe thead th {\n",
       "        text-align: right;\n",
       "    }\n",
       "</style>\n",
       "<table border=\"1\" class=\"dataframe\">\n",
       "  <thead>\n",
       "    <tr style=\"text-align: right;\">\n",
       "      <th></th>\n",
       "      <th>User ID</th>\n",
       "      <th>Gender</th>\n",
       "      <th>Age</th>\n",
       "      <th>EstimatedSalary</th>\n",
       "      <th>Purchased</th>\n",
       "    </tr>\n",
       "  </thead>\n",
       "  <tbody>\n",
       "    <tr>\n",
       "      <th>0</th>\n",
       "      <td>15624510</td>\n",
       "      <td>Male</td>\n",
       "      <td>19</td>\n",
       "      <td>19000</td>\n",
       "      <td>0</td>\n",
       "    </tr>\n",
       "    <tr>\n",
       "      <th>1</th>\n",
       "      <td>15810944</td>\n",
       "      <td>Male</td>\n",
       "      <td>35</td>\n",
       "      <td>20000</td>\n",
       "      <td>0</td>\n",
       "    </tr>\n",
       "    <tr>\n",
       "      <th>2</th>\n",
       "      <td>15668575</td>\n",
       "      <td>Female</td>\n",
       "      <td>26</td>\n",
       "      <td>43000</td>\n",
       "      <td>0</td>\n",
       "    </tr>\n",
       "    <tr>\n",
       "      <th>3</th>\n",
       "      <td>15603246</td>\n",
       "      <td>Female</td>\n",
       "      <td>27</td>\n",
       "      <td>57000</td>\n",
       "      <td>0</td>\n",
       "    </tr>\n",
       "    <tr>\n",
       "      <th>4</th>\n",
       "      <td>15804002</td>\n",
       "      <td>Male</td>\n",
       "      <td>19</td>\n",
       "      <td>76000</td>\n",
       "      <td>0</td>\n",
       "    </tr>\n",
       "  </tbody>\n",
       "</table>\n",
       "</div>"
      ],
      "text/plain": [
       "    User ID  Gender  Age  EstimatedSalary  Purchased\n",
       "0  15624510    Male   19            19000          0\n",
       "1  15810944    Male   35            20000          0\n",
       "2  15668575  Female   26            43000          0\n",
       "3  15603246  Female   27            57000          0\n",
       "4  15804002    Male   19            76000          0"
      ]
     },
     "execution_count": 4,
     "metadata": {},
     "output_type": "execute_result"
    }
   ],
   "source": [
    "data.head(5)"
   ]
  },
  {
   "cell_type": "code",
   "execution_count": 5,
   "id": "5492c9b8",
   "metadata": {},
   "outputs": [
    {
     "name": "stdout",
     "output_type": "stream",
     "text": [
      "    User ID  Gender  Age  EstimatedSalary  Purchased\n",
      "0  15624510    Male   19            19000          0\n",
      "1  15810944    Male   35            20000          0\n",
      "2  15668575  Female   26            43000          0\n"
     ]
    }
   ],
   "source": [
    "print(data[:3])"
   ]
  },
  {
   "cell_type": "code",
   "execution_count": 6,
   "id": "061690c6",
   "metadata": {},
   "outputs": [
    {
     "name": "stdout",
     "output_type": "stream",
     "text": [
      "(768, 9)\n",
      "[[6.000e+00 1.480e+02 7.200e+01 3.500e+01 0.000e+00 3.360e+01 6.270e-01\n",
      "  5.000e+01 1.000e+00]\n",
      " [1.000e+00 8.500e+01 6.600e+01 2.900e+01 0.000e+00 2.660e+01 3.510e-01\n",
      "  3.100e+01 0.000e+00]\n",
      " [8.000e+00 1.830e+02 6.400e+01 0.000e+00 0.000e+00 2.330e+01 6.720e-01\n",
      "  3.200e+01 1.000e+00]\n",
      " [1.000e+00 8.900e+01 6.600e+01 2.300e+01 9.400e+01 2.810e+01 1.670e-01\n",
      "  2.100e+01 0.000e+00]\n",
      " [0.000e+00 1.370e+02 4.000e+01 3.500e+01 1.680e+02 4.310e+01 2.288e+00\n",
      "  3.300e+01 1.000e+00]]\n"
     ]
    }
   ],
   "source": [
    "from numpy import loadtxt\n",
    "path=r\"C:\\Revathi\\Top Grads\\python\\dataset\\pima-indians-diabetes.csv\"\n",
    "datapath=open(path,'r')\n",
    "data=loadtxt(datapath, delimiter=\",\")\n",
    "print(data.shape)\n",
    "print(data[:5])\n"
   ]
  },
  {
   "cell_type": "code",
   "execution_count": 7,
   "id": "c52faf6f",
   "metadata": {},
   "outputs": [
    {
     "name": "stdout",
     "output_type": "stream",
     "text": [
      "(768, 9)\n",
      "   preg  plas  pres  skin  test  mass   pedi  age  class\n",
      "0     6   148    72    35     0  33.6  0.627   50      1\n",
      "1     1    85    66    29     0  26.6  0.351   31      0\n",
      "2     8   183    64     0     0  23.3  0.672   32      1\n",
      "3     1    89    66    23    94  28.1  0.167   21      0\n",
      "4     0   137    40    35   168  43.1  2.288   33      1\n"
     ]
    },
    {
     "data": {
      "text/plain": [
       "preg       int64\n",
       "plas       int64\n",
       "pres       int64\n",
       "skin       int64\n",
       "test       int64\n",
       "mass     float64\n",
       "pedi     float64\n",
       "age        int64\n",
       "class      int64\n",
       "dtype: object"
      ]
     },
     "execution_count": 7,
     "metadata": {},
     "output_type": "execute_result"
    }
   ],
   "source": [
    "import pandas as pd\n",
    "data = pd.read_csv(\"C:\\Revathi\\Top Grads\\python\\dataset\\pima-indians-diabetes.csv\")\n",
    "headernames = ['preg', 'plas', 'pres', 'skin', 'test', 'mass', 'pedi', 'age',\n",
    "'class']\n",
    "df=pd.read_csv(\"pima-indians-diabetes.csv\", names=headernames)\n",
    "print(df.shape)\n",
    "print(df.head(5))\n",
    "df.dtypes"
   ]
  },
  {
   "cell_type": "code",
   "execution_count": 8,
   "id": "5199d7c4",
   "metadata": {},
   "outputs": [
    {
     "name": "stdout",
     "output_type": "stream",
     "text": [
      "class\n",
      "0    500\n",
      "1    268\n",
      "dtype: int64\n"
     ]
    }
   ],
   "source": [
    "from pandas import read_csv\n",
    "path=r\"C:\\Revathi\\Top Grads\\python\\dataset\\pima-indians-diabetes.csv\"\n",
    "names=['preg', 'plas', 'pres', 'skin', 'test', 'mass', 'pedi', 'age',\n",
    "'class']\n",
    "data=read_csv(path,names=names)\n",
    "count=data.groupby('class').size()\n",
    "print(count)"
   ]
  },
  {
   "cell_type": "code",
   "execution_count": 9,
   "id": "5315a342",
   "metadata": {},
   "outputs": [
    {
     "name": "stdout",
     "output_type": "stream",
     "text": [
      "   preg  plas  pres  skin  test  mass  pedi  age  class\n",
      "0     6   148    72    35     0  33.6  0.63   50      1\n",
      "1     1    85    66    29     0  26.6  0.35   31      0\n",
      "2     8   183    64     0     0  23.3  0.67   32      1\n",
      "3     1    89    66    23    94  28.1  0.17   21      0\n",
      "4     0   137    40    35   168  43.1  2.29   33      1\n",
      "       preg  plas  pres  skin  test  mass  pedi   age  class\n",
      "preg   1.00  0.13  0.14 -0.08 -0.07  0.02 -0.03  0.54   0.22\n",
      "plas   0.13  1.00  0.15  0.06  0.33  0.22  0.14  0.26   0.47\n",
      "pres   0.14  0.15  1.00  0.21  0.09  0.28  0.04  0.24   0.07\n",
      "skin  -0.08  0.06  0.21  1.00  0.44  0.39  0.18 -0.11   0.07\n",
      "test  -0.07  0.33  0.09  0.44  1.00  0.20  0.19 -0.04   0.13\n",
      "mass   0.02  0.22  0.28  0.39  0.20  1.00  0.14  0.04   0.29\n",
      "pedi  -0.03  0.14  0.04  0.18  0.19  0.14  1.00  0.03   0.17\n",
      "age    0.54  0.26  0.24 -0.11 -0.04  0.04  0.03  1.00   0.24\n",
      "class  0.22  0.47  0.07  0.07  0.13  0.29  0.17  0.24   1.00\n",
      "preg     0.90\n",
      "plas     0.17\n",
      "pres    -1.84\n",
      "skin     0.11\n",
      "test     2.27\n",
      "mass    -0.43\n",
      "pedi     1.92\n",
      "age      1.13\n",
      "class    0.64\n",
      "dtype: float64\n"
     ]
    }
   ],
   "source": [
    "import pandas as pd\n",
    "from pandas import set_option\n",
    "data=pd.read_csv(\"C:\\Revathi\\Top Grads\\python\\dataset\\pima-indians-diabetes.csv\")\n",
    "names=['preg', 'plas', 'pres', 'skin', 'test', 'mass', 'pedi', 'age',\n",
    "'class']\n",
    "df=read_csv('pima-indians-diabetes.csv', names=names)\n",
    "set_option('display.width',100)\n",
    "set_option('precision',2)\n",
    "print(df.head(5))\n",
    "correlation=df.corr(method='pearson')\n",
    "print(correlation)\n",
    "print(df.skew())"
   ]
  },
  {
   "cell_type": "code",
   "execution_count": 13,
   "id": "a45eada3",
   "metadata": {},
   "outputs": [
    {
     "data": {
      "image/png": "[encoded data removed]",
      "text/plain": [
       "<Figure size 432x288 with 9 Axes>"
      ]
     },
     "metadata": {
      "needs_background": "light"
     },
     "output_type": "display_data"
    }
   ],
   "source": [
    "from matplotlib import pyplot\n",
    "from pandas import read_csv\n",
    "path=r\"C:\\Revathi\\Top Grads\\python\\dataset\\pima-indians-diabetes.csv\"\n",
    "names=['preg', 'plas', 'pres', 'skin', 'test', 'mass', 'pedi', 'age',\n",
    "'class']\n",
    "df=read_csv(path, names=names)\n",
    "df.hist()\n",
    "pyplot.tight_layout()\n",
    "pyplot.show()"
   ]
  },
  {
   "cell_type": "code",
   "execution_count": 19,
   "id": "b29d8e70",
   "metadata": {},
   "outputs": [
    {
     "data": {
      "image/png": "[encoded data removed]",
      "text/plain": [
       "<Figure size 432x288 with 9 Axes>"
      ]
     },
     "metadata": {
      "needs_background": "light"
     },
     "output_type": "display_data"
    }
   ],
   "source": [
    "from matplotlib import pyplot\n",
    "from pandas import read_csv\n",
    "path=r\"C:\\Revathi\\Top Grads\\python\\dataset\\pima-indians-diabetes.csv\"\n",
    "names=['preg', 'plas', 'pres', 'skin', 'test', 'mass', 'pedi', 'age',\n",
    "'class']\n",
    "df=read_csv(path, names=names)\n",
    "df.plot(kind='density', subplots=True, layout=(3,3), sharex=False)\n",
    "pyplot.tight_layout()\n",
    "pyplot.show()"
   ]
  },
  {
   "cell_type": "code",
   "execution_count": 20,
   "id": "377576aa",
   "metadata": {},
   "outputs": [
    {
     "data": {
      "text/plain": [
       "<Figure size 576x288 with 0 Axes>"
      ]
     },
     "metadata": {},
     "output_type": "display_data"
    },
    {
     "data": {
      "image/png": "[encoded data removed]",
      "text/plain": [
       "<Figure size 432x288 with 9 Axes>"
      ]
     },
     "metadata": {
      "needs_background": "light"
     },
     "output_type": "display_data"
    }
   ],
   "source": [
    "from matplotlib import pyplot\n",
    "from pandas import read_csv\n",
    "path=r\"C:\\Revathi\\Top Grads\\python\\dataset\\pima-indians-diabetes.csv\"\n",
    "names=['preg', 'plas', 'pres', 'skin', 'test', 'mass', 'pedi', 'age',\n",
    "'class']\n",
    "pyplot.figure(figsize=(8,4))\n",
    "df=read_csv(path, names=names)\n",
    "df.plot(kind='box', subplots=True, layout=(3,3), sharex=False, sharey=False)\n",
    "pyplot.tight_layout()\n",
    "pyplot.show()"
   ]
  },
  {
   "cell_type": "code",
   "execution_count": 21,
   "id": "bd1d85aa",
   "metadata": {},
   "outputs": [
    {
     "data": {
      "image/png": "[encoded data removed]",
      "text/plain": [
       "<Figure size 216x216 with 2 Axes>"
      ]
     },
     "metadata": {
      "needs_background": "light"
     },
     "output_type": "display_data"
    }
   ],
   "source": [
    "from matplotlib import pyplot\n",
    "import pandas as pd\n",
    "import numpy as np\n",
    "data=pd.read_csv(\"C:\\Revathi\\Top Grads\\python\\dataset\\pima-indians-diabetes.csv\")\n",
    "names=['preg', 'plas', 'pres', 'skin', 'test', 'mass', 'pedi', 'age',\n",
    "'class']\n",
    "df=pd.read_csv('pima-indians-diabetes.csv', names=names)\n",
    "correlation=df.corr()\n",
    "fig=pyplot.figure(figsize=[3,3])\n",
    "ax = fig.add_subplot(111)\n",
    "cax = ax.matshow(correlation, vmin=-1, vmax=1)\n",
    "fig.colorbar(cax)\n",
    "ticks = np.arange(0,9,1)\n",
    "ax.set_xticks(ticks)\n",
    "ax.set_yticks(ticks)\n",
    "ax.set_xticklabels(names)\n",
    "ax.set_yticklabels(names)\n",
    "pyplot.show()\n",
    "\n",
    "\n"
   ]
  },
  {
   "cell_type": "code",
   "execution_count": 24,
   "id": "9d30f27b",
   "metadata": {
    "scrolled": true
   },
   "outputs": [
    {
     "data": {
      "image/png": "[encoded data removed]",
      "text/plain": [
       "<Figure size 432x288 with 81 Axes>"
      ]
     },
     "metadata": {
      "needs_background": "light"
     },
     "output_type": "display_data"
    }
   ],
   "source": [
    "from matplotlib import pyplot\n",
    "import pandas as pd\n",
    "from pandas.plotting import scatter_matrix\n",
    "import numpy as np\n",
    "data=pd.read_csv(\"C:\\Revathi\\Top Grads\\python\\dataset\\pima-indians-diabetes.csv\")\n",
    "names=['preg', 'plas', 'pres', 'skin', 'test', 'mass', 'pedi', 'age',\n",
    "'class']\n",
    "df=pd.read_csv('pima-indians-diabetes.csv', names=names)\n",
    "scatter_matrix(df)\n",
    "pyplot.tight_layout()\n",
    "pyplot.show()"
   ]
  },
  {
   "cell_type": "code",
   "execution_count": 29,
   "id": "cf318850",
   "metadata": {},
   "outputs": [
    {
     "name": "stdout",
     "output_type": "stream",
     "text": [
      "scaled data\n",
      " [[0.4 0.7 0.6 0.4 0.  0.5 0.2 0.5 1. ]\n",
      " [0.1 0.4 0.5 0.3 0.  0.4 0.1 0.2 0. ]\n",
      " [0.5 0.9 0.5 0.  0.  0.3 0.3 0.2 1. ]\n",
      " [0.1 0.4 0.5 0.2 0.1 0.4 0.  0.  0. ]\n",
      " [0.  0.7 0.3 0.4 0.2 0.6 0.9 0.2 1. ]]\n"
     ]
    }
   ],
   "source": [
    "from pandas import read_csv\n",
    "from sklearn import preprocessing\n",
    "from numpy import set_printoptions\n",
    "path=r\"C:\\Revathi\\Top Grads\\python\\dataset\\pima-indians-diabetes.csv\"\n",
    "names=['preg', 'plas', 'pres', 'skin', 'test', 'mass', 'pedi', 'age',\n",
    "'class']\n",
    "data=read_csv(path,names=names)\n",
    "#array=data.values\n",
    "data_scaler=preprocessing.MinMaxScaler(feature_range=(0,1))\n",
    "data_rescaler=data_scaler.fit_transform(data)\n",
    "set_printoptions(precision=1)\n",
    "print(\"scaled data\\n\",data_rescaler[0:5])\n",
    "\n",
    "\n"
   ]
  },
  {
   "cell_type": "code",
   "execution_count": 43,
   "id": "cdc0240e",
   "metadata": {},
   "outputs": [
    {
     "name": "stdout",
     "output_type": "stream",
     "text": [
      "normalised data\n",
      " [[0.35 0.74 0.59 0.35 0.   0.5  0.23 0.48 1.  ]\n",
      " [0.06 0.43 0.54 0.29 0.   0.4  0.12 0.17 0.  ]\n",
      " [0.47 0.92 0.52 0.   0.   0.35 0.25 0.18 1.  ]]\n"
     ]
    }
   ],
   "source": [
    "import pandas as pd\n",
    "from numpy import set_printoptions\n",
    "from sklearn.preprocessing import Normalizer\n",
    "data=pd.read_csv(\"C:\\Revathi\\Top Grads\\python\\dataset\\pima-indians-diabetes.csv\")\n",
    "names=['preg', 'plas', 'pres', 'skin', 'test', 'mass', 'pedi', 'age',\n",
    "'class']\n",
    "df=pd.read_csv('pima-indians-diabetes.csv', names=names)\n",
    "array=df.values\n",
    "data_normaliser= Normalizer(norm='l1').fit(array)\n",
    "data_renormalised=data_normaliser.transform(array)\n",
    "set_printoptions(precision=2)\n",
    "print(\"normalised data\\n\",data_rescaler[0:3])"
   ]
  },
  {
   "cell_type": "code",
   "execution_count": 44,
   "id": "3b791e55",
   "metadata": {},
   "outputs": [
    {
     "name": "stdout",
     "output_type": "stream",
     "text": [
      "normalised data\n",
      " [[0.35 0.74 0.59 0.35 0.   0.5  0.23 0.48 1.  ]\n",
      " [0.06 0.43 0.54 0.29 0.   0.4  0.12 0.17 0.  ]\n",
      " [0.47 0.92 0.52 0.   0.   0.35 0.25 0.18 1.  ]]\n"
     ]
    }
   ],
   "source": [
    "import pandas as pd\n",
    "from numpy import set_printoptions\n",
    "from sklearn.preprocessing import Normalizer\n",
    "data=pd.read_csv(\"C:\\Revathi\\Top Grads\\python\\dataset\\pima-indians-diabetes.csv\")\n",
    "names=['preg', 'plas', 'pres', 'skin', 'test', 'mass', 'pedi', 'age',\n",
    "'class']\n",
    "df=pd.read_csv('pima-indians-diabetes.csv', names=names)\n",
    "array=df.values\n",
    "data_normaliser= Normalizer(norm='l2').fit(array)\n",
    "data_renormalised=data_normaliser.transform(array)\n",
    "set_printoptions(precision=2)\n",
    "print(\"normalised data\\n\",data_rescaler[0:3])"
   ]
  },
  {
   "cell_type": "code",
   "execution_count": 45,
   "id": "49973edc",
   "metadata": {},
   "outputs": [
    {
     "name": "stdout",
     "output_type": "stream",
     "text": [
      "binarised values\n",
      " [[1. 1. 1. 1. 0. 1. 1. 1. 1.]\n",
      " [1. 1. 1. 1. 0. 1. 0. 1. 0.]\n",
      " [1. 1. 1. 0. 0. 1. 1. 1. 1.]\n",
      " [1. 1. 1. 1. 1. 1. 0. 1. 0.]\n",
      " [0. 1. 1. 1. 1. 1. 1. 1. 1.]]\n"
     ]
    }
   ],
   "source": [
    "import pandas as pd\n",
    "from numpy import set_printoptions\n",
    "from sklearn.preprocessing import Binarizer\n",
    "data=pd.read_csv(\"C:\\Revathi\\Top Grads\\python\\dataset\\pima-indians-diabetes.csv\")\n",
    "names=['preg', 'plas', 'pres', 'skin', 'test', 'mass', 'pedi', 'age',\n",
    "'class']\n",
    "df=pd.read_csv('pima-indians-diabetes.csv', names=names)\n",
    "data_binariser=Binarizer(threshold=0.5).fit(df)\n",
    "data_binarised=data_binariser.transform(df)\n",
    "print(\"binarised values\\n\",data_binarised[0:5])\n"
   ]
  },
  {
   "cell_type": "code",
   "execution_count": 46,
   "id": "d2ac080f",
   "metadata": {},
   "outputs": [
    {
     "name": "stdout",
     "output_type": "stream",
     "text": [
      "\n",
      "Rescaled data:\n",
      " [[ 0.64  0.85  0.15  0.91 -0.69  0.2   0.47  1.43  1.37]\n",
      " [-0.84 -1.12 -0.16  0.53 -0.69 -0.68 -0.37 -0.19 -0.73]\n",
      " [ 1.23  1.94 -0.26 -1.29 -0.69 -1.1   0.6  -0.11  1.37]\n",
      " [-0.84 -1.   -0.16  0.15  0.12 -0.49 -0.92 -1.04 -0.73]\n",
      " [-1.14  0.5  -1.5   0.91  0.77  1.41  5.48 -0.02  1.37]]\n"
     ]
    }
   ],
   "source": [
    "import pandas as pd\n",
    "from numpy import set_printoptions\n",
    "from sklearn.preprocessing import StandardScaler\n",
    "data=pd.read_csv(\"C:\\Revathi\\Top Grads\\python\\dataset\\pima-indians-diabetes.csv\")\n",
    "names=['preg', 'plas', 'pres', 'skin', 'test', 'mass', 'pedi', 'age',\n",
    "'class']\n",
    "df=pd.read_csv('pima-indians-diabetes.csv', names=names)\n",
    "data_standard=StandardScaler().fit(df)\n",
    "data_standarised=data_standard.transform(df)\n",
    "set_printoptions(precision=2)\n",
    "print (\"\\nRescaled data:\\n\",  data_standarised[0:5]) "
   ]
  },
  {
   "cell_type": "code",
   "execution_count": 48,
   "id": "8ca250e9",
   "metadata": {},
   "outputs": [
    {
     "name": "stdout",
     "output_type": "stream",
     "text": [
      "[ 111.52 1411.89   17.61   53.11 2175.57  127.67    5.39  181.3 ]\n",
      "\n",
      "Featured data:\n",
      " [[148.    0.   33.6  50. ]\n",
      " [ 85.    0.   26.6  31. ]\n",
      " [183.    0.   23.3  32. ]\n",
      " [ 89.   94.   28.1  21. ]]\n"
     ]
    }
   ],
   "source": [
    "import pandas as pd\n",
    "from numpy import set_printoptions\n",
    "from sklearn.feature_selection import SelectKBest\n",
    "from sklearn.feature_selection import chi2\n",
    "data=pd.read_csv(\"C:\\Revathi\\Top Grads\\python\\dataset\\pima-indians-diabetes.csv\")\n",
    "names=['preg', 'plas', 'pres', 'skin', 'test', 'mass', 'pedi', 'age',\n",
    "'class']\n",
    "df=pd.read_csv('pima-indians-diabetes.csv', names=names)\n",
    "array=df.values\n",
    "X=array[:,0:8]\n",
    "Y=array[:,8]\n",
    "test=SelectKBest(score_func=chi2,k=4)\n",
    "fit=test.fit(X,Y)\n",
    "set_printoptions(precision=2)\n",
    "print(fit.scores_)\n",
    "featured_data = fit.transform(X)\n",
    "print (\"\\nFeatured data:\\n\", featured_data[0:4])\n"
   ]
  },
  {
   "cell_type": "code",
   "execution_count": 52,
   "id": "bbeaae92",
   "metadata": {},
   "outputs": [
    {
     "name": "stderr",
     "output_type": "stream",
     "text": [
      "C:\\Users\\sujeb\\anaconda3\\lib\\site-packages\\sklearn\\utils\\validation.py:70: FutureWarning: Pass n_features_to_select=3 as keyword args. From version 1.0 (renaming of 0.25) passing these as positional arguments will result in an error\n",
      "  warnings.warn(f\"Pass {args_msg} as keyword args. From version \"\n",
      "C:\\Users\\sujeb\\anaconda3\\lib\\site-packages\\sklearn\\linear_model\\_logistic.py:763: ConvergenceWarning: lbfgs failed to converge (status=1):\n",
      "STOP: TOTAL NO. of ITERATIONS REACHED LIMIT.\n",
      "\n",
      "Increase the number of iterations (max_iter) or scale the data as shown in:\n",
      "    https://scikit-learn.org/stable/modules/preprocessing.html\n",
      "Please also refer to the documentation for alternative solver options:\n",
      "    https://scikit-learn.org/stable/modules/linear_model.html#logistic-regression\n",
      "  n_iter_i = _check_optimize_result(\n"
     ]
    },
    {
     "name": "stdout",
     "output_type": "stream",
     "text": [
      "Number of Features: %d\n",
      "Selected Features: %s\n",
      "Feature Ranking: %s\n"
     ]
    }
   ],
   "source": [
    "import pandas as pd\n",
    "from numpy import set_printoptions\n",
    "from sklearn.feature_selection import RFE\n",
    "from sklearn.linear_model import LogisticRegression\n",
    "data=pd.read_csv(\"C:\\Revathi\\Top Grads\\python\\dataset\\pima-indians-diabetes.csv\")\n",
    "names=['preg', 'plas', 'pres', 'skin', 'test', 'mass', 'pedi', 'age',\n",
    "'class']\n",
    "df=pd.read_csv('pima-indians-diabetes.csv', names=names)\n",
    "array=df.values\n",
    "X=array[:,0:8]\n",
    "Y=array[:,8]\n",
    "model = LogisticRegression()\n",
    "rfe = RFE(model, 3)\n",
    "fit = rfe.fit(X, Y)\n",
    "print(\"Number of Features: %d\")\n",
    "print(\"Selected Features: %s\")\n",
    "print(\"Feature Ranking: %s\")"
   ]
  },
  {
   "cell_type": "code",
   "execution_count": 53,
   "id": "3d5af159",
   "metadata": {},
   "outputs": [
    {
     "name": "stdout",
     "output_type": "stream",
     "text": [
      "Explained Variance: %s\n"
     ]
    },
    {
     "ename": "TypeError",
     "evalue": "unsupported operand type(s) for %: 'NoneType' and 'float'",
     "output_type": "error",
     "traceback": [
      "\u001b[1;31m---------------------------------------------------------------------------\u001b[0m",
      "\u001b[1;31mTypeError\u001b[0m                                 Traceback (most recent call last)",
      "\u001b[1;32m~\\AppData\\Local\\Temp/ipykernel_19668/3973976693.py\u001b[0m in \u001b[0;36m<module>\u001b[1;34m\u001b[0m\n\u001b[0;32m     10\u001b[0m \u001b[0mpca\u001b[0m \u001b[1;33m=\u001b[0m \u001b[0mPCA\u001b[0m\u001b[1;33m(\u001b[0m\u001b[0mn_components\u001b[0m\u001b[1;33m=\u001b[0m\u001b[1;36m3\u001b[0m\u001b[1;33m)\u001b[0m\u001b[1;33m\u001b[0m\u001b[1;33m\u001b[0m\u001b[0m\n\u001b[0;32m     11\u001b[0m \u001b[0mfit\u001b[0m \u001b[1;33m=\u001b[0m \u001b[0mpca\u001b[0m\u001b[1;33m.\u001b[0m\u001b[0mfit\u001b[0m\u001b[1;33m(\u001b[0m\u001b[0mX\u001b[0m\u001b[1;33m)\u001b[0m\u001b[1;33m\u001b[0m\u001b[1;33m\u001b[0m\u001b[0m\n\u001b[1;32m---> 12\u001b[1;33m \u001b[0mprint\u001b[0m\u001b[1;33m(\u001b[0m\u001b[1;34m\"Explained Variance: %s\"\u001b[0m\u001b[1;33m)\u001b[0m \u001b[1;33m%\u001b[0m \u001b[0mfit\u001b[0m\u001b[1;33m.\u001b[0m\u001b[0mexplained_variance_ratio_\u001b[0m\u001b[1;33m\u001b[0m\u001b[1;33m\u001b[0m\u001b[0m\n\u001b[0m\u001b[0;32m     13\u001b[0m \u001b[0mprint\u001b[0m\u001b[1;33m(\u001b[0m\u001b[0mfit\u001b[0m\u001b[1;33m.\u001b[0m\u001b[0mcomponents_\u001b[0m\u001b[1;33m)\u001b[0m\u001b[1;33m\u001b[0m\u001b[1;33m\u001b[0m\u001b[0m\n",
      "\u001b[1;31mTypeError\u001b[0m: unsupported operand type(s) for %: 'NoneType' and 'float'"
     ]
    }
   ],
   "source": [
    "from pandas import read_csv\n",
    "from sklearn.decomposition import PCA\n",
    "data=pd.read_csv(\"C:\\Revathi\\Top Grads\\python\\dataset\\pima-indians-diabetes.csv\")\n",
    "names=['preg', 'plas', 'pres', 'skin', 'test', 'mass', 'pedi', 'age',\n",
    "'class']\n",
    "df=pd.read_csv('pima-indians-diabetes.csv', names=names)\n",
    "array=df.values\n",
    "X=array[:,0:8]\n",
    "Y=array[:,8]\n",
    "pca = PCA(n_components=3)\n",
    "fit = pca.fit(X)\n",
    "print(\"Explained Variance: %s\") % fit.explained_variance_ratio_\n",
    "print(fit.components_) "
   ]
  },
  {
   "cell_type": "code",
   "execution_count": 54,
   "id": "b553735e",
   "metadata": {},
   "outputs": [
    {
     "name": "stdout",
     "output_type": "stream",
     "text": [
      "[0.11 0.23 0.1  0.08 0.08 0.14 0.12 0.14]\n"
     ]
    }
   ],
   "source": [
    "from sklearn.ensemble import ExtraTreesClassifier\n",
    "from pandas import read_csv\n",
    "from sklearn.decomposition import PCA\n",
    "data=pd.read_csv(\"C:\\Revathi\\Top Grads\\python\\dataset\\pima-indians-diabetes.csv\")\n",
    "names=['preg', 'plas', 'pres', 'skin', 'test', 'mass', 'pedi', 'age',\n",
    "'class']\n",
    "df=pd.read_csv('pima-indians-diabetes.csv', names=names)\n",
    "array=df.values\n",
    "X=array[:,0:8]\n",
    "Y=array[:,8]\n",
    "model = ExtraTreesClassifier()\n",
    "model.fit(X, Y)\n",
    "print(model.feature_importances_)"
   ]
  },
  {
   "cell_type": "code",
   "execution_count": 2,
   "id": "d711f80b",
   "metadata": {},
   "outputs": [
    {
     "name": "stdout",
     "output_type": "stream",
     "text": [
      "['mean radius' 'mean texture' 'mean perimeter' 'mean area'\n",
      " 'mean smoothness' 'mean compactness' 'mean concavity'\n",
      " 'mean concave points' 'mean symmetry' 'mean fractal dimension'\n",
      " 'radius error' 'texture error' 'perimeter error' 'area error'\n",
      " 'smoothness error' 'compactness error' 'concavity error'\n",
      " 'concave points error' 'symmetry error' 'fractal dimension error'\n",
      " 'worst radius' 'worst texture' 'worst perimeter' 'worst area'\n",
      " 'worst smoothness' 'worst compactness' 'worst concavity'\n",
      " 'worst concave points' 'worst symmetry' 'worst fractal dimension']\n",
      "mean texture\n"
     ]
    },
    {
     "data": {
      "text/plain": [
       "array(['malignant', 'benign'], dtype='<U9')"
      ]
     },
     "execution_count": 2,
     "metadata": {},
     "output_type": "execute_result"
    }
   ],
   "source": [
    "from sklearn.datasets import load_breast_cancer\n",
    "cancer=load_breast_cancer()\n",
    "print(cancer.feature_names)\n",
    "print(cancer.feature_names[1])\n",
    "cancer.target_names"
   ]
  },
  {
   "cell_type": "code",
   "execution_count": 3,
   "id": "1595e094",
   "metadata": {},
   "outputs": [
    {
     "data": {
      "text/plain": [
       "(569, 30)"
      ]
     },
     "execution_count": 3,
     "metadata": {},
     "output_type": "execute_result"
    }
   ],
   "source": [
    "import pandas as pd\n",
    "data=pd.DataFrame(cancer.data)\n",
    "data.columns=cancer.feature_names\n",
    "data.dtypes\n",
    "data.shape"
   ]
  },
  {
   "cell_type": "code",
   "execution_count": 7,
   "id": "d68fd6b3",
   "metadata": {},
   "outputs": [
    {
     "name": "stdout",
     "output_type": "stream",
     "text": [
      "[1 0 0 1 1 0 0 0 1 1 1 0 1 0 1 0 1 1 1 0 1 1 0 1 1 1 1 1 1 0 1 1 1 1 1 1 0\n",
      " 1 0 1 1 0 1 1 1 1 1 1 1 1 0 0 1 1 1 1 1 0 0 1 1 0 0 1 1 1 0 0 1 1 0 0 1 0\n",
      " 1 1 1 1 1 1 0 1 1 0 0 0 0 0 1 1 1 1 1 1 1 1 0 0 1 0 0 1 0 0 1 1 1 0 1 1 0\n",
      " 1 1 0 0 0 1 1 1 0 0 1 1 0 1 0 0 1 1 0 0 0 1 1 1 0 1 1 0 0 1 0 1 1 0 1 0 0\n",
      " 1 1 1 1 1 1 1 0 0 1 1 1 1 1 1 1 1 1 1 1 1 0 1 1 1 0 1 1 0 1 1 1 1 1 1 0 0\n",
      " 0 1 1 0 1 0 1 1 1 1 0 1 1 0 1 1 1 0 1 0 0 1 1 1 1 1 1 1 1 0 1 1 1 1 1 0 1\n",
      " 0 0 1 1 0 1]\n"
     ]
    }
   ],
   "source": [
    "from sklearn.model_selection import train_test_split\n",
    "from sklearn.linear_model import LogisticRegression\n",
    "from sklearn.naive_bayes import GaussianNB\n",
    "xtrain, xtest, ytrain, ytest = train_test_split(cancer.data,cancer.target, test_size=0.40,random_state=42)\n",
    "NB=GaussianNB()\n",
    "NB.fit(xtrain, ytrain)\n",
    "ypred=NB.predict(xtest)\n",
    "print(ypred)\n",
    "\n",
    "#LG=LogisticRegression()\n",
    "#LG.fit(xtrain,ytrain)\n",
    "#y_pred=LG.predict(xtest)\n",
    "#print(y_pred)\n",
    "\n"
   ]
  },
  {
   "cell_type": "code",
   "execution_count": 8,
   "id": "77655780",
   "metadata": {},
   "outputs": [
    {
     "name": "stdout",
     "output_type": "stream",
     "text": [
      "0.9649122807017544\n"
     ]
    }
   ],
   "source": [
    "from sklearn.metrics import accuracy_score\n",
    "print(accuracy_score(ytest,y_pred))"
   ]
  },
  {
   "cell_type": "code",
   "execution_count": 9,
   "id": "6da33fc4",
   "metadata": {},
   "outputs": [
    {
     "name": "stdout",
     "output_type": "stream",
     "text": [
      "[[ 75   5]\n",
      " [  3 145]]\n"
     ]
    }
   ],
   "source": [
    "from sklearn.metrics import confusion_matrix\n",
    "print(confusion_matrix(ytest,y_pred))"
   ]
  },
  {
   "cell_type": "code",
   "execution_count": 10,
   "id": "3d02bde2",
   "metadata": {},
   "outputs": [
    {
     "name": "stdout",
     "output_type": "stream",
     "text": [
      "0.9666666666666667\n"
     ]
    }
   ],
   "source": [
    "from sklearn.metrics import precision_score\n",
    "print(precision_score(ytest,y_pred))"
   ]
  },
  {
   "cell_type": "code",
   "execution_count": 11,
   "id": "8b30f490",
   "metadata": {},
   "outputs": [
    {
     "name": "stdout",
     "output_type": "stream",
     "text": [
      "              precision    recall  f1-score   support\n",
      "\n",
      "           0       0.96      0.94      0.95        80\n",
      "           1       0.97      0.98      0.97       148\n",
      "\n",
      "    accuracy                           0.96       228\n",
      "   macro avg       0.96      0.96      0.96       228\n",
      "weighted avg       0.96      0.96      0.96       228\n",
      "\n"
     ]
    }
   ],
   "source": [
    "from sklearn.metrics import classification_report\n",
    "print(classification_report(ytest,y_pred))"
   ]
  },
  {
   "cell_type": "code",
   "execution_count": 27,
   "id": "95ad9e11",
   "metadata": {},
   "outputs": [
    {
     "data": {
      "image/png": "[encoded data removed]",
      "text/plain": [
       "<Figure size 432x288 with 1 Axes>"
      ]
     },
     "metadata": {},
     "output_type": "display_data"
    }
   ],
   "source": [
    "import numpy as np\n",
    "import matplotlib.pyplot as plt\n",
    "from scipy import stats\n",
    "import seaborn as sns; \n",
    "sns.set()\n",
    "from sklearn.datasets import make_blobs\n",
    "X,y=make_blobs(n_samples=100, centers=2, random_state=0, cluster_std=0.50)\n",
    "xfit = np.linspace(-1, 3.5)\n",
    "\n",
    "plt.scatter(X[:, 0], X[:, 1], c=y, s=10, cmap='summer')\n",
    "plt.plot([0.6], [2.1], 'x', color='black', markeredgewidth=4, markersize=12)\n",
    "for m, b in [(1, 0.65), (0.5, 1.6), (-0.2, 2.9)]:\n",
    " plt.plot(xfit, m * xfit + b, '-k')\n",
    "plt.xlim(-1, 3.5)\n",
    "\n",
    "for m, b, d in [(1, 0.65, 0.33), (0.5, 1.6, 0.55), (-0.2, 2.9, 0.2)]:\n",
    " yfit = m * xfit + b\n",
    " plt.plot(xfit, yfit, '-k')\n",
    " plt.fill_between(xfit, yfit - d, yfit + d, edgecolor='none',\n",
    " color='#AAAAAA', alpha=0.4)\n",
    "plt.xlim(-1, 3.5); \n",
    "\n"
   ]
  },
  {
   "cell_type": "code",
   "execution_count": 28,
   "id": "33799f2b",
   "metadata": {},
   "outputs": [
    {
     "data": {
      "text/plain": [
       "SVC(C=10000000000.0, kernel='linear')"
      ]
     },
     "execution_count": 28,
     "metadata": {},
     "output_type": "execute_result"
    }
   ],
   "source": [
    "from sklearn.svm import SVC # \"Support vector classifier\"\n",
    "model = SVC(kernel='linear', C=1E10)\n",
    "model.fit(X, y)"
   ]
  },
  {
   "cell_type": "code",
   "execution_count": 30,
   "id": "aec355f7",
   "metadata": {},
   "outputs": [
    {
     "ename": "IndentationError",
     "evalue": "expected an indented block (Temp/ipykernel_6068/430852065.py, line 4)",
     "output_type": "error",
     "traceback": [
      "\u001b[1;36m  File \u001b[1;32m\"C:\\Users\\sujeb\\AppData\\Local\\Temp/ipykernel_6068/430852065.py\"\u001b[1;36m, line \u001b[1;32m4\u001b[0m\n\u001b[1;33m    ax = plt.gca()\u001b[0m\n\u001b[1;37m    ^\u001b[0m\n\u001b[1;31mIndentationError\u001b[0m\u001b[1;31m:\u001b[0m expected an indented block\n"
     ]
    }
   ],
   "source": [
    "def decision_function(model, ax=None, plot_support=True):\n",
    " if ax is None:\n",
    " ax = plt.gca()\n",
    " xlim = ax.get_xlim()\n",
    " ylim = ax.get_ylim()\n",
    "x = np.linspace(xlim[0], xlim[1], 30)\n",
    " y = np.linspace(ylim[0], ylim[1], 30)\n",
    "    Y, X = np.meshgrid(y, x)\n",
    " xy = np.vstack([X.ravel(), Y.ravel()]).T\n",
    " P = model.decision_function(xy).reshape(X.shape)\n",
    "    ax.contour(X, Y, P, colors='k',\n",
    " levels=[-1, 0, 1], alpha=0.5,\n",
    " linestyles=['--', '-', '--'])"
   ]
  },
  {
   "cell_type": "code",
   "execution_count": null,
   "id": "c57d8701",
   "metadata": {},
   "outputs": [],
   "source": []
  }
 ],
 "metadata": {
  "kernelspec": {
   "display_name": "Python 3 (ipykernel)",
   "language": "python",
   "name": "python3"
  },
  "language_info": {
   "codemirror_mode": {
    "name": "ipython",
    "version": 3
   },
   "file_extension": ".py",
   "mimetype": "text/x-python",
   "name": "python",
   "nbconvert_exporter": "python",
   "pygments_lexer": "ipython3",
   "version": "3.9.7"
  }
 },
 "nbformat": 4,
 "nbformat_minor": 5
}
